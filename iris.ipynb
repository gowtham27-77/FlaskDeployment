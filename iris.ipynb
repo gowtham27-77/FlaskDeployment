{
 "cells": [
  {
   "cell_type": "code",
   "execution_count": 4,
   "id": "22805a2b-ffa1-4842-b82f-81f57bd58f51",
   "metadata": {},
   "outputs": [
    {
     "name": "stdout",
     "output_type": "stream",
     "text": [
      "Model saved as iris_model.pkl\n"
     ]
    }
   ],
   "source": [
    "from sklearn.datasets import load_iris\n",
    "from sklearn.ensemble import RandomForestClassifier\n",
    "import joblib\n",
    "iris = load_iris()\n",
    "X, y = iris.data, iris.target\n",
    "model = RandomForestClassifier()\n",
    "model.fit(X, y)\n",
    "joblib.dump(model, 'iris_model.pkl')\n",
    "print(\"Model saved as iris_model.pkl\")"
   ]
  },
  {
   "cell_type": "code",
   "execution_count": null,
   "id": "37981b37-e41c-4f4a-81ce-4f489a573bef",
   "metadata": {},
   "outputs": [],
   "source": []
  },
  {
   "cell_type": "code",
   "execution_count": null,
   "id": "ab87bde5-308c-4594-aeef-2cbe54f8a5e1",
   "metadata": {},
   "outputs": [],
   "source": []
  }
 ],
 "metadata": {
  "kernelspec": {
   "display_name": "Python [conda env:base] *",
   "language": "python",
   "name": "conda-base-py"
  },
  "language_info": {
   "codemirror_mode": {
    "name": "ipython",
    "version": 3
   },
   "file_extension": ".py",
   "mimetype": "text/x-python",
   "name": "python",
   "nbconvert_exporter": "python",
   "pygments_lexer": "ipython3",
   "version": "3.12.7"
  }
 },
 "nbformat": 4,
 "nbformat_minor": 5
}
